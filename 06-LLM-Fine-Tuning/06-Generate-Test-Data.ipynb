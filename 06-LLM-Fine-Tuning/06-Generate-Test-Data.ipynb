{
 "cells": [
  {
   "cell_type": "markdown",
   "metadata": {},
   "source": [
    "### 1. Set Up Environment Variables\n",
    "To store credentials securely, rename the `.env.sample` file folder to `.env` in the same directory as the notebook and update the variables with the required connection information.\n",
    "\n",
    "### 2. Install Dependenices\n"
   ]
  },
  {
   "cell_type": "code",
   "execution_count": 6,
   "metadata": {},
   "outputs": [
    {
     "data": {
      "text/plain": [
       "True"
      ]
     },
     "execution_count": 6,
     "metadata": {},
     "output_type": "execute_result"
    }
   ],
   "source": [
    "import os\n",
    "from azure.identity import DefaultAzureCredential, get_bearer_token_provider\n",
    "from azure.core.credentials import AzureKeyCredential\n",
    "from openai import AzureOpenAI\n",
    "import dotenv\n",
    "import json\n",
    "\n",
    "dotenv.load_dotenv()"
   ]
  },
  {
   "cell_type": "markdown",
   "metadata": {},
   "source": [
    "### 3. Load environment variables and instantiate your OpenAI client"
   ]
  },
  {
   "cell_type": "code",
   "execution_count": null,
   "metadata": {},
   "outputs": [],
   "source": [
    "# Load Azure OpenAI environment variables\n",
    "AZURE_OPENAI_ENDPOINT = os.getenv(\"AZURE_OPENAI_ENDPOINT\")\n",
    "AZURE_OPENAI_API_KEY = os.getenv(\"AZURE_OPENAI_API_KEY\")\n",
    "AZURE_OPENAI_CHAT_COMPLETION_DEPLOYED_MODEL_NAME = os.getenv(\"AZURE_OPENAI_CHAT_COMPLETION_DEPLOYED_MODEL_NAME\")\n",
    "\n",
    "# 🔹 Initialize Azure OpenAI Client (API Key or Managed Identity)\n",
    "if AZURE_OPENAI_API_KEY:\n",
    "    openai_client = AzureOpenAI(\n",
    "        api_key=AZURE_OPENAI_API_KEY,\n",
    "        azure_endpoint=AZURE_OPENAI_ENDPOINT,\n",
    "        api_version=\"2024-10-21\"\n",
    "    )\n",
    "else:\n",
    "    azure_credential = DefaultAzureCredential()\n",
    "    token_provider = get_bearer_token_provider(azure_credential, \"https://cognitiveservices.azure.com/.default\")\n",
    "    openai_client = AzureOpenAI(\n",
    "        azure_ad_token_provider=token_provider,\n",
    "        azure_endpoint=AZURE_OPENAI_ENDPOINT,\n",
    "        api_version=\"2024-10-21\"\n",
    "    )"
   ]
  },
  {
   "cell_type": "markdown",
   "metadata": {},
   "source": [
    "### 4. Prepare the system prompt\n",
    "\n",
    "You want consistent outputs in a structured form, so start with a clear system prompt and optionally include few-shot examples."
   ]
  },
  {
   "cell_type": "code",
   "execution_count": 5,
   "metadata": {},
   "outputs": [],
   "source": [
    "SYSTEM_PROMPT = \"You are a data generator. Create realistic and varied Q&A pairs about Volkswagen Vans technical glossary terms. Each pair should explain a concept or abbreviation in a factual and helpful way, like a glossary copilot would.\"\n"
   ]
  },
  {
   "cell_type": "code",
   "execution_count": 4,
   "metadata": {},
   "outputs": [],
   "source": [
    "FEW_SHOT_EXAMPLES = [\n",
    "    {\"question\": \"What does TDI stand for?\", \"answer\": \"TDI stands for Turbocharged Direct Injection. It refers to a type of diesel engine developed by Volkswagen that uses a turbocharger and direct fuel injection to improve performance and efficiency.\"},\n",
    "    {\"question\": \"What is 4MOTION?\", \"answer\": \"4MOTION is Volkswagen's all-wheel-drive system that automatically distributes power between the front and rear wheels to improve traction and stability on various surfaces.\"}\n",
    "]\n"
   ]
  },
  {
   "cell_type": "markdown",
   "metadata": {},
   "source": [
    "### 5. Read the data that you want to create synthetic test data from\n",
    "In this example, we are reading VW technical glossary terms, that were extracted from this page: https://www.volkswagen-vans.co.uk/en/technology/technical-glossary.html\n",
    "They were stored locally in this repo in JSON format. You could store any desired source data there."
   ]
  },
  {
   "cell_type": "code",
   "execution_count": 18,
   "metadata": {},
   "outputs": [
    {
     "name": "stdout",
     "output_type": "stream",
     "text": [
      "✅ Saved 33 entries to vw_glossary_finetune_dataset.jsonl\n"
     ]
    }
   ],
   "source": [
    "with open(\"data/vw-technical-glossary/technical_glossary_vw_van.json\", \"r\") as f:\n",
    "    glossary_data = json.load(f)\n",
    "\n",
    "fine_tune_entries = []\n",
    "\n",
    "# Loop through glossary terms\n",
    "for entry in glossary_data:\n",
    "    term = entry[\"term\"]\n",
    "    definition = entry[\"definition\"]\n",
    "\n",
    "    user_prompt = f\"Term: {term}\\nDefinition: {definition}\"\n",
    "\n",
    "    try:\n",
    "        response = openai_client.chat.completions.create(\n",
    "            model=AZURE_OPENAI_CHAT_COMPLETION_DEPLOYED_MODEL_NAME,\n",
    "            messages=[\n",
    "                {\"role\": \"system\", \"content\": SYSTEM_PROMPT},\n",
    "                {\"role\": \"user\", \"content\": user_prompt}\n",
    "            ],\n",
    "            temperature=0.5\n",
    "        )\n",
    "\n",
    "        output = response.choices[0].message.content.strip()\n",
    "\n",
    "        # Parse Q&A\n",
    "        if \"Q:\" in output and \"A:\" in output:\n",
    "            question = output.split(\"Q:\")[1].split(\"A:\")[0].strip()\n",
    "            answer = output.split(\"A:\")[1].strip()\n",
    "\n",
    "            fine_tune_entries.append({\n",
    "                \"messages\": [\n",
    "                    {\n",
    "                        \"role\": \"system\",\n",
    "                        \"content\": \"VW Glossary Copilot is a factual chatbot that explains concepts and abbreviations about Volkswagen technical terms.\"\n",
    "                    },\n",
    "                    {\n",
    "                        \"role\": \"user\",\n",
    "                        \"content\": question\n",
    "                    },\n",
    "                    {\n",
    "                        \"role\": \"assistant\",\n",
    "                        \"content\": answer\n",
    "                    }\n",
    "                ]\n",
    "            })\n",
    "            print(f\"✅ Parsed Q&A for: {term}\")\n",
    "        else:\n",
    "            print(f\"⚠️ Could not parse Q&A for: {term}\")\n",
    "\n",
    "\n",
    "    except Exception as e:\n",
    "        print(f\"Error processing term '{term}': {e}\")\n",
    "\n",
    "# Save to JSONL\n",
    "with open(\"vw_glossary_finetune_dataset.jsonl\", \"w\") as f:\n",
    "    for item in fine_tune_entries:\n",
    "        f.write(json.dumps(item) + \"\\n\")\n",
    "\n",
    "print(f\"✅ Saved {len(fine_tune_entries)} entries to vw_glossary_finetune_dataset.jsonl\")"
   ]
  },
  {
   "cell_type": "code",
   "execution_count": null,
   "metadata": {},
   "outputs": [],
   "source": []
  }
 ],
 "metadata": {
  "kernelspec": {
   "display_name": ".venv",
   "language": "python",
   "name": "python3"
  },
  "language_info": {
   "codemirror_mode": {
    "name": "ipython",
    "version": 3
   },
   "file_extension": ".py",
   "mimetype": "text/x-python",
   "name": "python",
   "nbconvert_exporter": "python",
   "pygments_lexer": "ipython3",
   "version": "3.12.4"
  }
 },
 "nbformat": 4,
 "nbformat_minor": 2
}
