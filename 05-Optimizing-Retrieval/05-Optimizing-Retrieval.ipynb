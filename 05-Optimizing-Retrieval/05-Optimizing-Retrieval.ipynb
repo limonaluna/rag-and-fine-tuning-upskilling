{
 "cells": [
  {
   "cell_type": "markdown",
   "metadata": {},
   "source": [
    "### 1. Overview\n",
    "Advanced Search Techniques with Azure AI Search: Keyword, Vector, and Hybrid Methods\n",
    "\n",
    "This notebook demonstrates how to perform different types of searches using Azure AI Search, including keyword search, vector search, hybrid search, semantic ranking, and query rewriting."
   ]
  },
  {
   "cell_type": "markdown",
   "metadata": {},
   "source": [
    "### 2. Set Up Environment Variables\n",
    "Just like for Journey 1, create the `.env` file in the same directory as this notebook and update the variables.\n",
    "You can use the `.env.sample` file to see which variables are needed."
   ]
  },
  {
   "cell_type": "markdown",
   "metadata": {},
   "source": [
    "After setting up, the notebook will automatically load these values using dotenv.\n",
    "\n",
    "### 3. Load Environment Variables\n",
    "\n",
    "Run the following command to load environment variables from the .env file:"
   ]
  },
  {
   "cell_type": "code",
   "execution_count": null,
   "metadata": {},
   "outputs": [],
   "source": [
    "import os\n",
    "from azure.core.credentials import AzureKeyCredential\n",
    "from azure.identity import DefaultAzureCredential\n",
    "from dotenv import load_dotenv\n",
    "\n",
    "load_dotenv(override=True) # take environment variables from .env.\n",
    "\n",
    "endpoint = os.environ[\"AZURE_SEARCH_ENDPOINT\"]\n",
    "index_name = os.environ[\"AZURE_SEARCH_INDEX_NAME\"]\n",
    "credential = AzureKeyCredential(os.getenv(\"AZURE_SEARCH_ADMIN_KEY\")) if os.getenv(\"AZURE_SEARCH_ADMIN_KEY\") else DefaultAzureCredential()"
   ]
  },
  {
   "cell_type": "markdown",
   "metadata": {},
   "source": [
    "This will ensure all necessary credentials are available before setting up the API client."
   ]
  },
  {
   "cell_type": "markdown",
   "metadata": {},
   "source": [
    "### 4. Set Up API Client and Define the Display Function\n",
    "\n",
    "Initialize the Azure AI Search Client for interacting with the Azure Search service and make the search results easier to read by defining a function that formats and displays results:"
   ]
  },
  {
   "cell_type": "code",
   "execution_count": null,
   "metadata": {},
   "outputs": [],
   "source": [
    "from azure.search.documents import SearchClient\n",
    "import pandas as pd\n",
    "\n",
    "search_client = SearchClient(endpoint, index_name, credential)\n",
    "\n",
    "def display_results(results):\n",
    "    df = pd.json_normalize(list(results)).dropna(axis=1, how='all')\n",
    "    df[\"chunk\"] = df[\"chunk\"].apply(lambda c: c[:300] + '...' if len(c) > 300 else c)\n",
    "    first_cols = ['title', 'chunk', '@search.score']\n",
    "    df = df[first_cols + [col for col in df.columns if col not in first_cols]]\n",
    "\n",
    "    df = df.style.set_properties(**{\n",
    "        'max-width': '500px',\n",
    "        'text-align': 'left',\n",
    "        'white-space': 'normal',\n",
    "        'word-wrap': 'break-word'\n",
    "    }).hide(axis=\"index\")\n",
    "\n",
    "\n",
    "    return df\n"
   ]
  },
  {
   "cell_type": "markdown",
   "metadata": {},
   "source": [
    "### 5. Perform Different Search Methods\n",
    "\n",
    "#### Keyword Search\n",
    "\n",
    "Execute a traditional keyword-based search:"
   ]
  },
  {
   "cell_type": "code",
   "execution_count": null,
   "metadata": {},
   "outputs": [],
   "source": [
    "results = search_client.search(search_text=\"What is Contoso\", top=5, select=[\"title\", \"chunk\"])\n",
    "\n",
    "display_results(results)\n"
   ]
  },
  {
   "cell_type": "markdown",
   "metadata": {},
   "source": [
    "#### Vector Search\n",
    "\n",
    "Retrieve documents using vector similarity search:"
   ]
  },
  {
   "cell_type": "code",
   "execution_count": null,
   "metadata": {},
   "outputs": [],
   "source": [
    "from azure.search.documents.models import VectorizableTextQuery\n",
    "\n",
    "results = search_client.search(vector_queries=[VectorizableTextQuery(text=\"What is Contoso\", k_nearest_neighbors=50, fields=\"text_vector\")], top=5, select=[\"title\", \"chunk\"])\n",
    "\n",
    "display_results(results)"
   ]
  },
  {
   "cell_type": "markdown",
   "metadata": {},
   "source": [
    "#### Hybrid Search (Keyword + Vector Search)\n",
    "\n",
    "Combine keyword and vector searches for better accuracy:"
   ]
  },
  {
   "cell_type": "code",
   "execution_count": null,
   "metadata": {},
   "outputs": [],
   "source": [
    "results = search_client.search(\n",
    "    search_text=\"What is Contoso\",\n",
    "    vector_queries=[VectorizableTextQuery(text=\"What is Contoso\", k_nearest_neighbors=50, fields=\"text_vector\")],\n",
    "    top=5,\n",
    "    select=[\"title\", \"chunk\"]\n",
    ")\n",
    "\n",
    "display_results(results)"
   ]
  },
  {
   "cell_type": "markdown",
   "metadata": {},
   "source": [
    "#### Hybrid Search + Semantic Ranker\n",
    "\n",
    "Enhance search results using a semantic ranker:"
   ]
  },
  {
   "cell_type": "code",
   "execution_count": null,
   "metadata": {},
   "outputs": [],
   "source": [
    "#Semantic configuration name should be the name of your index + \"-semantic-configuration\" --> if you run into an error, verify the name of your semantic configuration\n",
    "semantic_configuration_name=index_name + \"-semantic-configuration\"\n",
    "\n",
    "results = search_client.search(\n",
    "    search_text=\"What is Contoso\",\n",
    "    vector_queries=[VectorizableTextQuery(text=\"What is Contoso\", k_nearest_neighbors=50, fields=\"text_vector\")],\n",
    "    top=5,\n",
    "    select=[\"title\", \"chunk\"],\n",
    "    query_type=\"semantic\",\n",
    "    semantic_configuration_name=semantic_configuration_name\n",
    ")\n",
    "\n",
    "display_results(results)"
   ]
  },
  {
   "cell_type": "markdown",
   "metadata": {},
   "source": [
    "#### Hybrid Search + Semantic Ranker + Query Rewriting\n",
    "\n",
    "Use semantic ranking and query rewriting for improved relevance.\n",
    "\n",
    "**Note**: Currently, query rewriting is in public preview stage and only available in a search service, Basic tier or higher, in **North Europe** or **Southeast Asia**.\n",
    "More Info [here](https://learn.microsoft.com/en-us/azure/search/semantic-how-to-query-rewrite)!"
   ]
  },
  {
   "cell_type": "code",
   "execution_count": null,
   "metadata": {},
   "outputs": [],
   "source": [
    "# results = search_client.search(\n",
    "#     search_text=\"What is Contoso\",\n",
    "#     vector_queries=[VectorizableTextQuery(text=\"What is Contoso\", k_nearest_neighbors=50, fields=\"text_vector\")],\n",
    "#     top=5,\n",
    "#     select=[\"title\", \"chunk\"],\n",
    "#     query_type=\"semantic\",\n",
    "#     semantic_configuration_name=\"ragtime2-semantic-configuration\",\n",
    "#     query_rewrites=\"generative\",\n",
    "#     query_language=\"en\"\n",
    "# )\n",
    "\n",
    "# display_results(results)"
   ]
  },
  {
   "cell_type": "markdown",
   "metadata": {},
   "source": [
    "### 6. Challenge\n",
    "Let's have a look at the data of our search index and try to think how users might ask questions - and with which search query type the relevant chunks would be retrieved best!\n",
    "\n",
    "1. Review content of the PerksPlus.pdf\n",
    "2. Formulate two questions that users might ask about this content\n",
    "3. Make assumptions about which search method will perform better (focus on keyword search vs. vector search)\n",
    "4. Test the assumption by executing both searches and comparing the retrieved results.\n",
    "\n"
   ]
  },
  {
   "cell_type": "code",
   "execution_count": null,
   "metadata": {},
   "outputs": [],
   "source": [
    "#First question\n",
    "question = \"...\"\n",
    "#TO DO: your code goes here\n",
    "\n",
    "print(\"Key word search results\")\n",
    "display_results(results_keyword)\n",
    "\n",
    "print(\"Vector search results\")\n",
    "display_results(results_vector)\n"
   ]
  },
  {
   "cell_type": "code",
   "execution_count": null,
   "metadata": {},
   "outputs": [],
   "source": [
    "#Second question\n",
    "question = \"...\"\n",
    "#TO DO: your code goes here\n",
    "\n",
    "print(\"Key word search results\")\n",
    "display_results(results_keyword)\n",
    "\n",
    "print(\"Vector search results\")\n",
    "display_results(results_vector)"
   ]
  },
  {
   "cell_type": "markdown",
   "metadata": {},
   "source": [
    "## Troubleshooting\n",
    "\n",
    "- **Environment Variables Not Loaded:** Ensure you have correctly set the .env file or manually export them in your terminal before running the notebook.\n",
    "- **Authentication Issues:** If using Managed Identity, make sure your Azure identity has proper role assignments.\n",
    "- **Search Results Are Empty:** Ensure your Azure AI Search index contains vectorized data.\n",
    "- **Query Rewriting Issues:** Ensure your search service supports semantic configurations and generative query rewrites.\n",
    "\n",
    "## Summary\n",
    "\n",
    "This notebook demonstrates different search techniques using Azure AI Search, including keyword search, vector search, hybrid search, semantic ranking, and query rewriting. The approach enhances search accuracy by leveraging vector embeddings and semantic understanding to retrieve the most relevant documents.\n",
    "\n"
   ]
  }
 ],
 "metadata": {
  "kernelspec": {
   "display_name": ".venv",
   "language": "python",
   "name": "python3"
  },
  "language_info": {
   "codemirror_mode": {
    "name": "ipython",
    "version": 3
   },
   "file_extension": ".py",
   "mimetype": "text/x-python",
   "name": "python",
   "nbconvert_exporter": "python",
   "pygments_lexer": "ipython3",
   "version": "3.12.4"
  }
 },
 "nbformat": 4,
 "nbformat_minor": 2
}
