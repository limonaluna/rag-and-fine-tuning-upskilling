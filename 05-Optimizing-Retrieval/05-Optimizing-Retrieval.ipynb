{
 "cells": [
  {
   "cell_type": "markdown",
   "metadata": {},
   "source": [
    "### 1. Overview\n",
    "Advanced Search Techniques with Azure AI Search: Keyword, Vector, and Hybrid Methods\n",
    "\n",
    "This notebook demonstrates how to perform different types of searches using Azure AI Search, including keyword search, vector search, hybrid search, semantic ranking, and query rewriting."
   ]
  },
  {
   "cell_type": "markdown",
   "metadata": {},
   "source": [
    "### 2. Set Up Environment Variables\n",
    "Just like for Journey 1, create the `.env` file in the same directory as this notebook and update the variables.\n",
    "You can use the `.env.sample` file to see which variables are needed."
   ]
  },
  {
   "cell_type": "markdown",
   "metadata": {},
   "source": [
    "After setting up, the notebook will automatically load these values using dotenv.\n",
    "\n",
    "### 3. Load Environment Variables\n",
    "\n",
    "Run the following command to load environment variables from the .env file:"
   ]
  },
  {
   "cell_type": "code",
   "execution_count": 3,
   "metadata": {},
   "outputs": [
    {
     "ename": "ModuleNotFoundError",
     "evalue": "No module named 'azure'",
     "output_type": "error",
     "traceback": [
      "\u001b[31m---------------------------------------------------------------------------\u001b[39m",
      "\u001b[31mModuleNotFoundError\u001b[39m                       Traceback (most recent call last)",
      "\u001b[36mCell\u001b[39m\u001b[36m \u001b[39m\u001b[32mIn[3]\u001b[39m\u001b[32m, line 2\u001b[39m\n\u001b[32m      1\u001b[39m \u001b[38;5;28;01mimport\u001b[39;00m\u001b[38;5;250m \u001b[39m\u001b[34;01mos\u001b[39;00m\n\u001b[32m----> \u001b[39m\u001b[32m2\u001b[39m \u001b[38;5;28;01mfrom\u001b[39;00m\u001b[38;5;250m \u001b[39m\u001b[34;01mazure\u001b[39;00m\u001b[34;01m.\u001b[39;00m\u001b[34;01mcore\u001b[39;00m\u001b[34;01m.\u001b[39;00m\u001b[34;01mcredentials\u001b[39;00m\u001b[38;5;250m \u001b[39m\u001b[38;5;28;01mimport\u001b[39;00m AzureKeyCredential\n\u001b[32m      3\u001b[39m \u001b[38;5;28;01mfrom\u001b[39;00m\u001b[38;5;250m \u001b[39m\u001b[34;01mazure\u001b[39;00m\u001b[34;01m.\u001b[39;00m\u001b[34;01midentity\u001b[39;00m\u001b[38;5;250m \u001b[39m\u001b[38;5;28;01mimport\u001b[39;00m DefaultAzureCredential\n\u001b[32m      4\u001b[39m \u001b[38;5;28;01mfrom\u001b[39;00m\u001b[38;5;250m \u001b[39m\u001b[34;01mdotenv\u001b[39;00m\u001b[38;5;250m \u001b[39m\u001b[38;5;28;01mimport\u001b[39;00m load_dotenv\n",
      "\u001b[31mModuleNotFoundError\u001b[39m: No module named 'azure'"
     ]
    }
   ],
   "source": [
    "import os\n",
    "from azure.core.credentials import AzureKeyCredential\n",
    "from azure.identity import DefaultAzureCredential\n",
    "from dotenv import load_dotenv\n",
    "\n",
    "load_dotenv(override=True) # take environment variables from .env.\n",
    "\n",
    "endpoint = os.environ[\"AZURE_SEARCH_ENDPOINT\"]\n",
    "index_name = os.environ[\"AZURE_SEARCH_INDEX_NAME\"]\n",
    "credential = AzureKeyCredential(os.getenv(\"AZURE_SEARCH_ADMIN_KEY\")) if os.getenv(\"AZURE_SEARCH_ADMIN_KEY\") else DefaultAzureCredential()"
   ]
  },
  {
   "cell_type": "markdown",
   "metadata": {},
   "source": [
    "This will ensure all necessary credentials are available before setting up the API client."
   ]
  },
  {
   "cell_type": "markdown",
   "metadata": {},
   "source": [
    "### 4. Set Up API Client and Define the Display Function\n",
    "\n",
    "Initialize the Azure AI Search Client for interacting with the Azure Search service and make the search results easier to read by defining a function that formats and displays results:"
   ]
  },
  {
   "cell_type": "code",
   "execution_count": 6,
   "metadata": {},
   "outputs": [],
   "source": [
    "from azure.search.documents import SearchClient\n",
    "import pandas as pd\n",
    "\n",
    "search_client = SearchClient(endpoint, index_name, credential)\n",
    "\n",
    "def display_results(results):\n",
    "    df = pd.json_normalize(list(results)).dropna(axis=1, how='all')\n",
    "    df[\"chunk\"] = df[\"chunk\"].apply(lambda c: c[:300] + '...' if len(c) > 300 else c)\n",
    "    first_cols = ['title', 'chunk', '@search.score']\n",
    "    df = df[first_cols + [col for col in df.columns if col not in first_cols]]\n",
    "\n",
    "    df = df.style.set_properties(**{\n",
    "        'max-width': '500px',\n",
    "        'text-align': 'left',\n",
    "        'white-space': 'normal',\n",
    "        'word-wrap': 'break-word'\n",
    "    }).hide(axis=\"index\")\n",
    "\n",
    "\n",
    "    return df\n"
   ]
  },
  {
   "cell_type": "markdown",
   "metadata": {},
   "source": [
    "### 5. Perform Different Search Methods\n",
    "\n",
    "#### Keyword Search\n",
    "\n",
    "Execute a traditional keyword-based search:"
   ]
  },
  {
   "cell_type": "code",
   "execution_count": 7,
   "metadata": {},
   "outputs": [
    {
     "data": {
      "text/html": [
       "<style type=\"text/css\">\n",
       "#T_42f3c_row0_col0, #T_42f3c_row0_col1, #T_42f3c_row0_col2, #T_42f3c_row1_col0, #T_42f3c_row1_col1, #T_42f3c_row1_col2, #T_42f3c_row2_col0, #T_42f3c_row2_col1, #T_42f3c_row2_col2, #T_42f3c_row3_col0, #T_42f3c_row3_col1, #T_42f3c_row3_col2, #T_42f3c_row4_col0, #T_42f3c_row4_col1, #T_42f3c_row4_col2 {\n",
       "  max-width: 500px;\n",
       "  text-align: left;\n",
       "  white-space: normal;\n",
       "  word-wrap: break-word;\n",
       "}\n",
       "</style>\n",
       "<table id=\"T_42f3c\">\n",
       "  <thead>\n",
       "    <tr>\n",
       "      <th id=\"T_42f3c_level0_col0\" class=\"col_heading level0 col0\" >title</th>\n",
       "      <th id=\"T_42f3c_level0_col1\" class=\"col_heading level0 col1\" >chunk</th>\n",
       "      <th id=\"T_42f3c_level0_col2\" class=\"col_heading level0 col2\" >@search.score</th>\n",
       "    </tr>\n",
       "  </thead>\n",
       "  <tbody>\n",
       "    <tr>\n",
       "      <td id=\"T_42f3c_row0_col0\" class=\"data row0 col0\" >Northwind_Health_Plus_Benefits_Details.pdf</td>\n",
       "      <td id=\"T_42f3c_row0_col1\" class=\"data row0 col1\" >the tips outlined above, you can \n",
       "\n",
       "help ensure that your request for services or treatments is approved in a timely manner and \n",
       "\n",
       "that you are receiving the most appropriate care.  \n",
       "\n",
       "The Group And You \n",
       "\n",
       "OTHER INFORMATION ABOUT THIS PLAN \n",
       "\n",
       "The Group and You  \n",
       "\n",
       "\n",
       "\n",
       "The Northwind Health Plus plan is a gro...</td>\n",
       "      <td id=\"T_42f3c_row0_col2\" class=\"data row0 col2\" >4.684504</td>\n",
       "    </tr>\n",
       "    <tr>\n",
       "      <td id=\"T_42f3c_row1_col0\" class=\"data row1 col0\" >Northwind_Standard_Benefits_Details.pdf</td>\n",
       "      <td id=\"T_42f3c_row1_col1\" class=\"data row1 col1\" >At Contoso, we understand that medical costs can be intimidating and confusing, which is \n",
       "\n",
       "why we’ve partnered with Northwind Health to offer our employees the Northwind \n",
       "\n",
       "Standard plan. This plan provides a balance billing protection, meaning that you are \n",
       "\n",
       "protected from unexpected costs when visi...</td>\n",
       "      <td id=\"T_42f3c_row1_col2\" class=\"data row1 col2\" >4.370165</td>\n",
       "    </tr>\n",
       "    <tr>\n",
       "      <td id=\"T_42f3c_row2_col0\" class=\"data row2 col0\" >Northwind_Standard_Benefits_Details.pdf</td>\n",
       "      <td id=\"T_42f3c_row2_col1\" class=\"data row2 col1\" >providers that are not available from participating \n",
       "\n",
       "providers. Additionally, in some cases, the health plan may cover non-participating \n",
       "\n",
       "providers’ charges if there are no participating providers in your area. \n",
       "\n",
       "Tips \n",
       "\n",
       "In order to avoid costly balance billing amounts, it is important to make sure...</td>\n",
       "      <td id=\"T_42f3c_row2_col2\" class=\"data row2 col2\" >3.893067</td>\n",
       "    </tr>\n",
       "    <tr>\n",
       "      <td id=\"T_42f3c_row3_col0\" class=\"data row3 col0\" >Northwind_Health_Plus_Benefits_Details.pdf</td>\n",
       "      <td id=\"T_42f3c_row3_col1\" class=\"data row3 col1\" >about your health care. With \n",
       "\n",
       "the Northwind Health Plus Plan, you can take advantage of the coverage provided for these \n",
       "\n",
       "services and get the treatment you need. \n",
       "\n",
       "Substance Use Disorder \n",
       "\n",
       "Substance Use Disorder Coverage \n",
       "\n",
       "At Contoso, we are proud to offer our employees Northwind Health Plus, an i...</td>\n",
       "      <td id=\"T_42f3c_row3_col2\" class=\"data row3 col2\" >3.590473</td>\n",
       "    </tr>\n",
       "    <tr>\n",
       "      <td id=\"T_42f3c_row4_col0\" class=\"data row4 col0\" >Northwind_Standard_Benefits_Details.pdf</td>\n",
       "      <td id=\"T_42f3c_row4_col1\" class=\"data row4 col1\" >• Understand any restrictions associated with any government-sponsored programs you \n",
       "\n",
       "may be enrolled in.  \n",
       "\n",
       "• Your Northwind Standard plan does not cover certain services, such as emergency care, \n",
       "\n",
       "mental health and substance abuse coverage, or out-of-network services. Be sure to explore \n",
       "\n",
       "alternat...</td>\n",
       "      <td id=\"T_42f3c_row4_col2\" class=\"data row4 col2\" >3.263199</td>\n",
       "    </tr>\n",
       "  </tbody>\n",
       "</table>\n"
      ],
      "text/plain": [
       "<pandas.io.formats.style.Styler at 0x278feae7f50>"
      ]
     },
     "execution_count": 7,
     "metadata": {},
     "output_type": "execute_result"
    }
   ],
   "source": [
    "results = search_client.search(search_text=\"What is Contoso\", top=5, select=[\"title\", \"chunk\"])\n",
    "\n",
    "display_results(results)\n"
   ]
  },
  {
   "cell_type": "markdown",
   "metadata": {},
   "source": [
    "#### Vector Search\n",
    "\n",
    "Retrieve documents using vector similarity search:"
   ]
  },
  {
   "cell_type": "code",
   "execution_count": 24,
   "metadata": {},
   "outputs": [
    {
     "data": {
      "text/html": [
       "<style type=\"text/css\">\n",
       "#T_48d8a_row0_col0, #T_48d8a_row0_col1, #T_48d8a_row0_col2, #T_48d8a_row1_col0, #T_48d8a_row1_col1, #T_48d8a_row1_col2, #T_48d8a_row2_col0, #T_48d8a_row2_col1, #T_48d8a_row2_col2, #T_48d8a_row3_col0, #T_48d8a_row3_col1, #T_48d8a_row3_col2, #T_48d8a_row4_col0, #T_48d8a_row4_col1, #T_48d8a_row4_col2 {\n",
       "  max-width: 500px;\n",
       "  text-align: left;\n",
       "  white-space: normal;\n",
       "  word-wrap: break-word;\n",
       "}\n",
       "</style>\n",
       "<table id=\"T_48d8a\">\n",
       "  <thead>\n",
       "    <tr>\n",
       "      <th id=\"T_48d8a_level0_col0\" class=\"col_heading level0 col0\" >title</th>\n",
       "      <th id=\"T_48d8a_level0_col1\" class=\"col_heading level0 col1\" >chunk</th>\n",
       "      <th id=\"T_48d8a_level0_col2\" class=\"col_heading level0 col2\" >@search.score</th>\n",
       "    </tr>\n",
       "  </thead>\n",
       "  <tbody>\n",
       "    <tr>\n",
       "      <td id=\"T_48d8a_row0_col0\" class=\"data row0 col0\" >employee_handbook.pdf</td>\n",
       "      <td id=\"T_48d8a_row0_col1\" class=\"data row0 col1\" >Contoso Electronics \n",
       "\n",
       "Employee Handbook \n",
       "\n",
       " \n",
       "\n",
       " \n",
       " \n",
       "\n",
       " \n",
       "\n",
       " \n",
       "\n",
       " \n",
       "\n",
       "  \n",
       "\n",
       "\n",
       "\n",
       "This document contains information generated using a language model (Azure OpenAI). The \n",
       "\n",
       "information contained in this document is only for demonstration purposes and does not \n",
       "\n",
       "reflect the opinions or beliefs of Microsoft. Microsoft ...</td>\n",
       "      <td id=\"T_48d8a_row0_col2\" class=\"data row0 col2\" >0.834683</td>\n",
       "    </tr>\n",
       "    <tr>\n",
       "      <td id=\"T_48d8a_row1_col0\" class=\"data row1 col0\" >employee_handbook.pdf</td>\n",
       "      <td id=\"T_48d8a_row1_col1\" class=\"data row1 col1\" >as our partners and vendors. We \n",
       "\n",
       "may use this information to better understand our customers and improve our services. \n",
       "\n",
       " \n",
       "\n",
       "Contoso Electronics will not sell or rent your personal information to any third parties. \n",
       "\n",
       " \n",
       "\n",
       "Data Security and Protection \n",
       "\n",
       " \n",
       "\n",
       "Contoso Electronics is committed to protecting...</td>\n",
       "      <td id=\"T_48d8a_row1_col2\" class=\"data row1 col2\" >0.830409</td>\n",
       "    </tr>\n",
       "    <tr>\n",
       "      <td id=\"T_48d8a_row2_col0\" class=\"data row2 col0\" >employee_handbook.pdf</td>\n",
       "      <td id=\"T_48d8a_row2_col1\" class=\"data row2 col1\" >will respond \n",
       "\n",
       "promptly and appropriately. All incidents will be thoroughly investigated and the \n",
       "\n",
       "appropriate disciplinary action will be taken. \n",
       "\n",
       " \n",
       "\n",
       "Training and Education \n",
       "\n",
       " \n",
       "\n",
       "Contoso Electronics will provide regular training and education to all employees on \n",
       "\n",
       "workplace violence prevention and r...</td>\n",
       "      <td id=\"T_48d8a_row2_col2\" class=\"data row2 col2\" >0.829960</td>\n",
       "    </tr>\n",
       "    <tr>\n",
       "      <td id=\"T_48d8a_row3_col0\" class=\"data row3 col0\" >Benefit_Options.pdf</td>\n",
       "      <td id=\"T_48d8a_row3_col1\" class=\"data row3 col1\" >Contoso Electronics \n",
       "Plan and Benefit Packages\n",
       "\n",
       "\n",
       "\n",
       "This document contains information generated using a language model (Azure OpenAI). The information \n",
       "contained in this document is only for demonstration purposes and does not reflect the opinions or \n",
       "beliefs of Microsoft. Microsoft makes no represen...</td>\n",
       "      <td id=\"T_48d8a_row3_col2\" class=\"data row3 col2\" >0.811813</td>\n",
       "    </tr>\n",
       "    <tr>\n",
       "      <td id=\"T_48d8a_row4_col0\" class=\"data row4 col0\" >employee_handbook.pdf</td>\n",
       "      <td id=\"T_48d8a_row4_col1\" class=\"data row4 col1\" >aerospace industry, providing advanced electronic \n",
       "\n",
       "components for both commercial and military aircraft. We specialize in creating cutting-\n",
       "\n",
       "edge systems that are both reliable and efficient. Our mission is to provide the highest \n",
       "\n",
       "quality aircraft components to our customers, while maintaining a c...</td>\n",
       "      <td id=\"T_48d8a_row4_col2\" class=\"data row4 col2\" >0.807292</td>\n",
       "    </tr>\n",
       "  </tbody>\n",
       "</table>\n"
      ],
      "text/plain": [
       "<pandas.io.formats.style.Styler at 0x278ff8c0470>"
      ]
     },
     "execution_count": 24,
     "metadata": {},
     "output_type": "execute_result"
    }
   ],
   "source": [
    "from azure.search.documents.models import VectorizableTextQuery\n",
    "\n",
    "results = search_client.search(vector_queries=[VectorizableTextQuery(text=\"What is Contoso\", k_nearest_neighbors=50, fields=\"text_vector\")], top=5, select=[\"title\", \"chunk\"])\n",
    "\n",
    "display_results(results)"
   ]
  },
  {
   "cell_type": "markdown",
   "metadata": {},
   "source": [
    "#### Hybrid Search (Keyword + Vector Search)\n",
    "\n",
    "Combine keyword and vector searches for better accuracy:"
   ]
  },
  {
   "cell_type": "code",
   "execution_count": 23,
   "metadata": {},
   "outputs": [
    {
     "data": {
      "text/html": [
       "<style type=\"text/css\">\n",
       "#T_57fdc_row0_col0, #T_57fdc_row0_col1, #T_57fdc_row0_col2, #T_57fdc_row1_col0, #T_57fdc_row1_col1, #T_57fdc_row1_col2, #T_57fdc_row2_col0, #T_57fdc_row2_col1, #T_57fdc_row2_col2, #T_57fdc_row3_col0, #T_57fdc_row3_col1, #T_57fdc_row3_col2, #T_57fdc_row4_col0, #T_57fdc_row4_col1, #T_57fdc_row4_col2 {\n",
       "  max-width: 500px;\n",
       "  text-align: left;\n",
       "  white-space: normal;\n",
       "  word-wrap: break-word;\n",
       "}\n",
       "</style>\n",
       "<table id=\"T_57fdc\">\n",
       "  <thead>\n",
       "    <tr>\n",
       "      <th id=\"T_57fdc_level0_col0\" class=\"col_heading level0 col0\" >title</th>\n",
       "      <th id=\"T_57fdc_level0_col1\" class=\"col_heading level0 col1\" >chunk</th>\n",
       "      <th id=\"T_57fdc_level0_col2\" class=\"col_heading level0 col2\" >@search.score</th>\n",
       "    </tr>\n",
       "  </thead>\n",
       "  <tbody>\n",
       "    <tr>\n",
       "      <td id=\"T_57fdc_row0_col0\" class=\"data row0 col0\" >employee_handbook.pdf</td>\n",
       "      <td id=\"T_57fdc_row0_col1\" class=\"data row0 col1\" >Contoso Electronics \n",
       "\n",
       "Employee Handbook \n",
       "\n",
       " \n",
       "\n",
       " \n",
       " \n",
       "\n",
       " \n",
       "\n",
       " \n",
       "\n",
       " \n",
       "\n",
       "  \n",
       "\n",
       "\n",
       "\n",
       "This document contains information generated using a language model (Azure OpenAI). The \n",
       "\n",
       "information contained in this document is only for demonstration purposes and does not \n",
       "\n",
       "reflect the opinions or beliefs of Microsoft. Microsoft ...</td>\n",
       "      <td id=\"T_57fdc_row0_col2\" class=\"data row0 col2\" >0.031592</td>\n",
       "    </tr>\n",
       "    <tr>\n",
       "      <td id=\"T_57fdc_row1_col0\" class=\"data row1 col0\" >employee_handbook.pdf</td>\n",
       "      <td id=\"T_57fdc_row1_col1\" class=\"data row1 col1\" >will respond \n",
       "\n",
       "promptly and appropriately. All incidents will be thoroughly investigated and the \n",
       "\n",
       "appropriate disciplinary action will be taken. \n",
       "\n",
       " \n",
       "\n",
       "Training and Education \n",
       "\n",
       " \n",
       "\n",
       "Contoso Electronics will provide regular training and education to all employees on \n",
       "\n",
       "workplace violence prevention and r...</td>\n",
       "      <td id=\"T_57fdc_row1_col2\" class=\"data row1 col2\" >0.030214</td>\n",
       "    </tr>\n",
       "    <tr>\n",
       "      <td id=\"T_57fdc_row2_col0\" class=\"data row2 col0\" >Northwind_Health_Plus_Benefits_Details.pdf</td>\n",
       "      <td id=\"T_57fdc_row2_col1\" class=\"data row2 col1\" >the tips outlined above, you can \n",
       "\n",
       "help ensure that your request for services or treatments is approved in a timely manner and \n",
       "\n",
       "that you are receiving the most appropriate care.  \n",
       "\n",
       "The Group And You \n",
       "\n",
       "OTHER INFORMATION ABOUT THIS PLAN \n",
       "\n",
       "The Group and You  \n",
       "\n",
       "\n",
       "\n",
       "The Northwind Health Plus plan is a gro...</td>\n",
       "      <td id=\"T_57fdc_row2_col2\" class=\"data row2 col2\" >0.030180</td>\n",
       "    </tr>\n",
       "    <tr>\n",
       "      <td id=\"T_57fdc_row3_col0\" class=\"data row3 col0\" >employee_handbook.pdf</td>\n",
       "      <td id=\"T_57fdc_row3_col1\" class=\"data row3 col1\" >as our partners and vendors. We \n",
       "\n",
       "may use this information to better understand our customers and improve our services. \n",
       "\n",
       " \n",
       "\n",
       "Contoso Electronics will not sell or rent your personal information to any third parties. \n",
       "\n",
       " \n",
       "\n",
       "Data Security and Protection \n",
       "\n",
       " \n",
       "\n",
       "Contoso Electronics is committed to protecting...</td>\n",
       "      <td id=\"T_57fdc_row3_col2\" class=\"data row3 col2\" >0.029380</td>\n",
       "    </tr>\n",
       "    <tr>\n",
       "      <td id=\"T_57fdc_row4_col0\" class=\"data row4 col0\" >Northwind_Standard_Benefits_Details.pdf</td>\n",
       "      <td id=\"T_57fdc_row4_col1\" class=\"data row4 col1\" >At Contoso, we understand that medical costs can be intimidating and confusing, which is \n",
       "\n",
       "why we’ve partnered with Northwind Health to offer our employees the Northwind \n",
       "\n",
       "Standard plan. This plan provides a balance billing protection, meaning that you are \n",
       "\n",
       "protected from unexpected costs when visi...</td>\n",
       "      <td id=\"T_57fdc_row4_col2\" class=\"data row4 col2\" >0.028893</td>\n",
       "    </tr>\n",
       "  </tbody>\n",
       "</table>\n"
      ],
      "text/plain": [
       "<pandas.io.formats.style.Styler at 0x278ff8854c0>"
      ]
     },
     "execution_count": 23,
     "metadata": {},
     "output_type": "execute_result"
    }
   ],
   "source": [
    "results = search_client.search(\n",
    "    search_text=\"What is Contoso\",\n",
    "    vector_queries=[VectorizableTextQuery(text=\"What is Contoso\", k_nearest_neighbors=50, fields=\"text_vector\")],\n",
    "    top=5,\n",
    "    select=[\"title\", \"chunk\"]\n",
    ")\n",
    "\n",
    "display_results(results)"
   ]
  },
  {
   "cell_type": "code",
   "execution_count": null,
   "metadata": {},
   "outputs": [],
   "source": [
    "#Semantic configuration name should be the name of your index + \"-semantic-configuration\" --> if you run into an error, verify the name of your semantic configuration\n",
    "semantic_configuration_name=index_name + \"-semantic-configuration\""
   ]
  },
  {
   "cell_type": "markdown",
   "metadata": {},
   "source": [
    "#### Hybrid Search + Semantic Ranker\n",
    "\n",
    "Enhance search results using a semantic ranker:"
   ]
  },
  {
   "cell_type": "code",
   "execution_count": null,
   "metadata": {},
   "outputs": [
    {
     "ename": "HttpResponseError",
     "evalue": "(InvalidRequestParameter) Unknown semantic configuration 'ragtime2-semantic-configuration'.\r\nParameter name: semanticConfiguration\nCode: InvalidRequestParameter\nMessage: Unknown semantic configuration 'ragtime2-semantic-configuration'.\r\nParameter name: semanticConfiguration\nException Details:\t(UnknownSemanticConfiguration) Unknown semantic configuration 'ragtime2-semantic-configuration'.\n\tCode: UnknownSemanticConfiguration\n\tMessage: Unknown semantic configuration 'ragtime2-semantic-configuration'.",
     "output_type": "error",
     "traceback": [
      "\u001b[31m---------------------------------------------------------------------------\u001b[39m",
      "\u001b[31mHttpResponseError\u001b[39m                         Traceback (most recent call last)",
      "\u001b[36mCell\u001b[39m\u001b[36m \u001b[39m\u001b[32mIn[42]\u001b[39m\u001b[32m, line 10\u001b[39m\n\u001b[32m      1\u001b[39m results = search_client.search(\n\u001b[32m      2\u001b[39m     search_text=\u001b[33m\"\u001b[39m\u001b[33mWhat is Contoso\u001b[39m\u001b[33m\"\u001b[39m,\n\u001b[32m      3\u001b[39m     vector_queries=[VectorizableTextQuery(text=\u001b[33m\"\u001b[39m\u001b[33mWhat is Contoso\u001b[39m\u001b[33m\"\u001b[39m, k_nearest_neighbors=\u001b[32m50\u001b[39m, fields=\u001b[33m\"\u001b[39m\u001b[33mtext_vector\u001b[39m\u001b[33m\"\u001b[39m)],\n\u001b[32m   (...)\u001b[39m\u001b[32m      7\u001b[39m     semantic_configuration_name=\u001b[33m\"\u001b[39m\u001b[33mragtime2-semantic-configuration\u001b[39m\u001b[33m\"\u001b[39m\n\u001b[32m      8\u001b[39m )\n\u001b[32m---> \u001b[39m\u001b[32m10\u001b[39m \u001b[43mdisplay_results\u001b[49m\u001b[43m(\u001b[49m\u001b[43mresults\u001b[49m\u001b[43m)\u001b[49m\n",
      "\u001b[36mCell\u001b[39m\u001b[36m \u001b[39m\u001b[32mIn[6]\u001b[39m\u001b[32m, line 7\u001b[39m, in \u001b[36mdisplay_results\u001b[39m\u001b[34m(results)\u001b[39m\n\u001b[32m      6\u001b[39m \u001b[38;5;28;01mdef\u001b[39;00m\u001b[38;5;250m \u001b[39m\u001b[34mdisplay_results\u001b[39m(results):\n\u001b[32m----> \u001b[39m\u001b[32m7\u001b[39m     df = pd.json_normalize(\u001b[38;5;28;43mlist\u001b[39;49m\u001b[43m(\u001b[49m\u001b[43mresults\u001b[49m\u001b[43m)\u001b[49m).dropna(axis=\u001b[32m1\u001b[39m, how=\u001b[33m'\u001b[39m\u001b[33mall\u001b[39m\u001b[33m'\u001b[39m)\n\u001b[32m      8\u001b[39m     df[\u001b[33m\"\u001b[39m\u001b[33mchunk\u001b[39m\u001b[33m\"\u001b[39m] = df[\u001b[33m\"\u001b[39m\u001b[33mchunk\u001b[39m\u001b[33m\"\u001b[39m].apply(\u001b[38;5;28;01mlambda\u001b[39;00m c: c[:\u001b[32m300\u001b[39m] + \u001b[33m'\u001b[39m\u001b[33m...\u001b[39m\u001b[33m'\u001b[39m \u001b[38;5;28;01mif\u001b[39;00m \u001b[38;5;28mlen\u001b[39m(c) > \u001b[32m300\u001b[39m \u001b[38;5;28;01melse\u001b[39;00m c)\n\u001b[32m      9\u001b[39m     first_cols = [\u001b[33m'\u001b[39m\u001b[33mtitle\u001b[39m\u001b[33m'\u001b[39m, \u001b[33m'\u001b[39m\u001b[33mchunk\u001b[39m\u001b[33m'\u001b[39m, \u001b[33m'\u001b[39m\u001b[33m@search.score\u001b[39m\u001b[33m'\u001b[39m]\n",
      "\u001b[36mFile \u001b[39m\u001b[32mc:\\sources\\gh\\rag-time\\.venv\\Lib\\site-packages\\azure\\search\\documents\\_paging.py:54\u001b[39m, in \u001b[36mSearchItemPaged.__next__\u001b[39m\u001b[34m(self)\u001b[39m\n\u001b[32m     52\u001b[39m     first_iterator = \u001b[38;5;28mself\u001b[39m._first_iterator_instance()\n\u001b[32m     53\u001b[39m     \u001b[38;5;28mself\u001b[39m._page_iterator = itertools.chain.from_iterable(first_iterator)\n\u001b[32m---> \u001b[39m\u001b[32m54\u001b[39m \u001b[38;5;28;01mreturn\u001b[39;00m \u001b[38;5;28;43mnext\u001b[39;49m\u001b[43m(\u001b[49m\u001b[38;5;28;43mself\u001b[39;49m\u001b[43m.\u001b[49m\u001b[43m_page_iterator\u001b[49m\u001b[43m)\u001b[49m\n",
      "\u001b[36mFile \u001b[39m\u001b[32mc:\\sources\\gh\\rag-time\\.venv\\Lib\\site-packages\\azure\\core\\paging.py:75\u001b[39m, in \u001b[36mPageIterator.__next__\u001b[39m\u001b[34m(self)\u001b[39m\n\u001b[32m     73\u001b[39m     \u001b[38;5;28;01mraise\u001b[39;00m \u001b[38;5;167;01mStopIteration\u001b[39;00m(\u001b[33m\"\u001b[39m\u001b[33mEnd of paging\u001b[39m\u001b[33m\"\u001b[39m)\n\u001b[32m     74\u001b[39m \u001b[38;5;28;01mtry\u001b[39;00m:\n\u001b[32m---> \u001b[39m\u001b[32m75\u001b[39m     \u001b[38;5;28mself\u001b[39m._response = \u001b[38;5;28;43mself\u001b[39;49m\u001b[43m.\u001b[49m\u001b[43m_get_next\u001b[49m\u001b[43m(\u001b[49m\u001b[38;5;28;43mself\u001b[39;49m\u001b[43m.\u001b[49m\u001b[43mcontinuation_token\u001b[49m\u001b[43m)\u001b[49m\n\u001b[32m     76\u001b[39m \u001b[38;5;28;01mexcept\u001b[39;00m AzureError \u001b[38;5;28;01mas\u001b[39;00m error:\n\u001b[32m     77\u001b[39m     \u001b[38;5;28;01mif\u001b[39;00m \u001b[38;5;129;01mnot\u001b[39;00m error.continuation_token:\n",
      "\u001b[36mFile \u001b[39m\u001b[32mc:\\sources\\gh\\rag-time\\.venv\\Lib\\site-packages\\azure\\search\\documents\\_paging.py:125\u001b[39m, in \u001b[36mSearchPageIterator._get_next_cb\u001b[39m\u001b[34m(self, continuation_token)\u001b[39m\n\u001b[32m    123\u001b[39m \u001b[38;5;28;01mdef\u001b[39;00m\u001b[38;5;250m \u001b[39m\u001b[34m_get_next_cb\u001b[39m(\u001b[38;5;28mself\u001b[39m, continuation_token):\n\u001b[32m    124\u001b[39m     \u001b[38;5;28;01mif\u001b[39;00m continuation_token \u001b[38;5;129;01mis\u001b[39;00m \u001b[38;5;28;01mNone\u001b[39;00m:\n\u001b[32m--> \u001b[39m\u001b[32m125\u001b[39m         \u001b[38;5;28;01mreturn\u001b[39;00m \u001b[38;5;28;43mself\u001b[39;49m\u001b[43m.\u001b[49m\u001b[43m_client\u001b[49m\u001b[43m.\u001b[49m\u001b[43mdocuments\u001b[49m\u001b[43m.\u001b[49m\u001b[43msearch_post\u001b[49m\u001b[43m(\u001b[49m\u001b[43msearch_request\u001b[49m\u001b[43m=\u001b[49m\u001b[38;5;28;43mself\u001b[39;49m\u001b[43m.\u001b[49m\u001b[43m_initial_query\u001b[49m\u001b[43m.\u001b[49m\u001b[43mrequest\u001b[49m\u001b[43m,\u001b[49m\u001b[43m \u001b[49m\u001b[43m*\u001b[49m\u001b[43m*\u001b[49m\u001b[38;5;28;43mself\u001b[39;49m\u001b[43m.\u001b[49m\u001b[43m_kwargs\u001b[49m\u001b[43m)\u001b[49m\n\u001b[32m    127\u001b[39m     _next_link, next_page_request = unpack_continuation_token(continuation_token)\n\u001b[32m    129\u001b[39m     \u001b[38;5;28;01mreturn\u001b[39;00m \u001b[38;5;28mself\u001b[39m._client.documents.search_post(search_request=next_page_request, **\u001b[38;5;28mself\u001b[39m._kwargs)\n",
      "\u001b[36mFile \u001b[39m\u001b[32mc:\\sources\\gh\\rag-time\\.venv\\Lib\\site-packages\\azure\\core\\tracing\\decorator.py:119\u001b[39m, in \u001b[36mdistributed_trace.<locals>.decorator.<locals>.wrapper_use_tracer\u001b[39m\u001b[34m(*args, **kwargs)\u001b[39m\n\u001b[32m    117\u001b[39m \u001b[38;5;66;03m# If tracing is disabled globally and user didn't explicitly enable it, don't trace.\u001b[39;00m\n\u001b[32m    118\u001b[39m \u001b[38;5;28;01mif\u001b[39;00m user_enabled \u001b[38;5;129;01mis\u001b[39;00m \u001b[38;5;28;01mFalse\u001b[39;00m \u001b[38;5;129;01mor\u001b[39;00m (\u001b[38;5;129;01mnot\u001b[39;00m tracing_enabled \u001b[38;5;129;01mand\u001b[39;00m user_enabled \u001b[38;5;129;01mis\u001b[39;00m \u001b[38;5;28;01mNone\u001b[39;00m):\n\u001b[32m--> \u001b[39m\u001b[32m119\u001b[39m     \u001b[38;5;28;01mreturn\u001b[39;00m \u001b[43mfunc\u001b[49m\u001b[43m(\u001b[49m\u001b[43m*\u001b[49m\u001b[43margs\u001b[49m\u001b[43m,\u001b[49m\u001b[43m \u001b[49m\u001b[43m*\u001b[49m\u001b[43m*\u001b[49m\u001b[43mkwargs\u001b[49m\u001b[43m)\u001b[49m\n\u001b[32m    121\u001b[39m \u001b[38;5;66;03m# Merge span is parameter is set, but only if no explicit parent are passed\u001b[39;00m\n\u001b[32m    122\u001b[39m \u001b[38;5;28;01mif\u001b[39;00m merge_span \u001b[38;5;129;01mand\u001b[39;00m \u001b[38;5;129;01mnot\u001b[39;00m passed_in_parent:\n",
      "\u001b[36mFile \u001b[39m\u001b[32mc:\\sources\\gh\\rag-time\\.venv\\Lib\\site-packages\\azure\\search\\documents\\_generated\\operations\\_documents_operations.py:754\u001b[39m, in \u001b[36mDocumentsOperations.search_post\u001b[39m\u001b[34m(self, search_request, request_options, **kwargs)\u001b[39m\n\u001b[32m    752\u001b[39m     map_error(status_code=response.status_code, response=response, error_map=error_map)\n\u001b[32m    753\u001b[39m     error = \u001b[38;5;28mself\u001b[39m._deserialize.failsafe_deserialize(_models.ErrorResponse, pipeline_response)\n\u001b[32m--> \u001b[39m\u001b[32m754\u001b[39m     \u001b[38;5;28;01mraise\u001b[39;00m HttpResponseError(response=response, model=error)\n\u001b[32m    756\u001b[39m deserialized = \u001b[38;5;28mself\u001b[39m._deserialize(\u001b[33m\"\u001b[39m\u001b[33mSearchDocumentsResult\u001b[39m\u001b[33m\"\u001b[39m, pipeline_response.http_response)\n\u001b[32m    758\u001b[39m \u001b[38;5;28;01mif\u001b[39;00m \u001b[38;5;28mcls\u001b[39m:\n",
      "\u001b[31mHttpResponseError\u001b[39m: (InvalidRequestParameter) Unknown semantic configuration 'ragtime2-semantic-configuration'.\r\nParameter name: semanticConfiguration\nCode: InvalidRequestParameter\nMessage: Unknown semantic configuration 'ragtime2-semantic-configuration'.\r\nParameter name: semanticConfiguration\nException Details:\t(UnknownSemanticConfiguration) Unknown semantic configuration 'ragtime2-semantic-configuration'.\n\tCode: UnknownSemanticConfiguration\n\tMessage: Unknown semantic configuration 'ragtime2-semantic-configuration'."
     ]
    }
   ],
   "source": [
    "results = search_client.search(\n",
    "    search_text=\"What is Contoso\",\n",
    "    vector_queries=[VectorizableTextQuery(text=\"What is Contoso\", k_nearest_neighbors=50, fields=\"text_vector\")],\n",
    "    top=5,\n",
    "    select=[\"title\", \"chunk\"],\n",
    "    query_type=\"semantic\",\n",
    "    semantic_configuration_name=semantic_configuration_name\n",
    ")\n",
    "\n",
    "display_results(results)"
   ]
  },
  {
   "cell_type": "markdown",
   "metadata": {},
   "source": [
    "#### Hybrid Search + Semantic Ranker + Query Rewriting\n",
    "\n",
    "Use semantic ranking and query rewriting for improved relevance.\n",
    "\n",
    "**Note**: Currently, query rewriting is in public preview stage and only available in a search service, Basic tier or higher, in **North Europe** or **Southeast Asia**.\n",
    "More Info [here](https://learn.microsoft.com/en-us/azure/search/semantic-how-to-query-rewrite)!"
   ]
  },
  {
   "cell_type": "code",
   "execution_count": null,
   "metadata": {},
   "outputs": [
    {
     "ename": "TypeError",
     "evalue": "Session.request() got an unexpected keyword argument 'query_rewrites'",
     "output_type": "error",
     "traceback": [
      "\u001b[31m---------------------------------------------------------------------------\u001b[39m",
      "\u001b[31mTypeError\u001b[39m                                 Traceback (most recent call last)",
      "\u001b[36mCell\u001b[39m\u001b[36m \u001b[39m\u001b[32mIn[21]\u001b[39m\u001b[32m, line 12\u001b[39m\n\u001b[32m      1\u001b[39m results = search_client.search(\n\u001b[32m      2\u001b[39m     search_text=\u001b[33m\"\u001b[39m\u001b[33mWhat is Contoso\u001b[39m\u001b[33m\"\u001b[39m,\n\u001b[32m      3\u001b[39m     vector_queries=[VectorizableTextQuery(text=\u001b[33m\"\u001b[39m\u001b[33mWhat is Contoso\u001b[39m\u001b[33m\"\u001b[39m, k_nearest_neighbors=\u001b[32m50\u001b[39m, fields=\u001b[33m\"\u001b[39m\u001b[33mtext_vector\u001b[39m\u001b[33m\"\u001b[39m)],\n\u001b[32m   (...)\u001b[39m\u001b[32m      9\u001b[39m     query_language=\u001b[33m\"\u001b[39m\u001b[33men\u001b[39m\u001b[33m\"\u001b[39m\n\u001b[32m     10\u001b[39m )\n\u001b[32m---> \u001b[39m\u001b[32m12\u001b[39m \u001b[43mdisplay_results\u001b[49m\u001b[43m(\u001b[49m\u001b[43mresults\u001b[49m\u001b[43m)\u001b[49m\n",
      "\u001b[36mCell\u001b[39m\u001b[36m \u001b[39m\u001b[32mIn[6]\u001b[39m\u001b[32m, line 7\u001b[39m, in \u001b[36mdisplay_results\u001b[39m\u001b[34m(results)\u001b[39m\n\u001b[32m      6\u001b[39m \u001b[38;5;28;01mdef\u001b[39;00m\u001b[38;5;250m \u001b[39m\u001b[34mdisplay_results\u001b[39m(results):\n\u001b[32m----> \u001b[39m\u001b[32m7\u001b[39m     df = pd.json_normalize(\u001b[38;5;28;43mlist\u001b[39;49m\u001b[43m(\u001b[49m\u001b[43mresults\u001b[49m\u001b[43m)\u001b[49m).dropna(axis=\u001b[32m1\u001b[39m, how=\u001b[33m'\u001b[39m\u001b[33mall\u001b[39m\u001b[33m'\u001b[39m)\n\u001b[32m      8\u001b[39m     df[\u001b[33m\"\u001b[39m\u001b[33mchunk\u001b[39m\u001b[33m\"\u001b[39m] = df[\u001b[33m\"\u001b[39m\u001b[33mchunk\u001b[39m\u001b[33m\"\u001b[39m].apply(\u001b[38;5;28;01mlambda\u001b[39;00m c: c[:\u001b[32m300\u001b[39m] + \u001b[33m'\u001b[39m\u001b[33m...\u001b[39m\u001b[33m'\u001b[39m \u001b[38;5;28;01mif\u001b[39;00m \u001b[38;5;28mlen\u001b[39m(c) > \u001b[32m300\u001b[39m \u001b[38;5;28;01melse\u001b[39;00m c)\n\u001b[32m      9\u001b[39m     first_cols = [\u001b[33m'\u001b[39m\u001b[33mtitle\u001b[39m\u001b[33m'\u001b[39m, \u001b[33m'\u001b[39m\u001b[33mchunk\u001b[39m\u001b[33m'\u001b[39m, \u001b[33m'\u001b[39m\u001b[33m@search.score\u001b[39m\u001b[33m'\u001b[39m]\n",
      "\u001b[36mFile \u001b[39m\u001b[32mc:\\sources\\gh\\rag-time\\.venv\\Lib\\site-packages\\azure\\search\\documents\\_paging.py:54\u001b[39m, in \u001b[36mSearchItemPaged.__next__\u001b[39m\u001b[34m(self)\u001b[39m\n\u001b[32m     52\u001b[39m     first_iterator = \u001b[38;5;28mself\u001b[39m._first_iterator_instance()\n\u001b[32m     53\u001b[39m     \u001b[38;5;28mself\u001b[39m._page_iterator = itertools.chain.from_iterable(first_iterator)\n\u001b[32m---> \u001b[39m\u001b[32m54\u001b[39m \u001b[38;5;28;01mreturn\u001b[39;00m \u001b[38;5;28;43mnext\u001b[39;49m\u001b[43m(\u001b[49m\u001b[38;5;28;43mself\u001b[39;49m\u001b[43m.\u001b[49m\u001b[43m_page_iterator\u001b[49m\u001b[43m)\u001b[49m\n",
      "\u001b[36mFile \u001b[39m\u001b[32mc:\\sources\\gh\\rag-time\\.venv\\Lib\\site-packages\\azure\\core\\paging.py:75\u001b[39m, in \u001b[36mPageIterator.__next__\u001b[39m\u001b[34m(self)\u001b[39m\n\u001b[32m     73\u001b[39m     \u001b[38;5;28;01mraise\u001b[39;00m \u001b[38;5;167;01mStopIteration\u001b[39;00m(\u001b[33m\"\u001b[39m\u001b[33mEnd of paging\u001b[39m\u001b[33m\"\u001b[39m)\n\u001b[32m     74\u001b[39m \u001b[38;5;28;01mtry\u001b[39;00m:\n\u001b[32m---> \u001b[39m\u001b[32m75\u001b[39m     \u001b[38;5;28mself\u001b[39m._response = \u001b[38;5;28;43mself\u001b[39;49m\u001b[43m.\u001b[49m\u001b[43m_get_next\u001b[49m\u001b[43m(\u001b[49m\u001b[38;5;28;43mself\u001b[39;49m\u001b[43m.\u001b[49m\u001b[43mcontinuation_token\u001b[49m\u001b[43m)\u001b[49m\n\u001b[32m     76\u001b[39m \u001b[38;5;28;01mexcept\u001b[39;00m AzureError \u001b[38;5;28;01mas\u001b[39;00m error:\n\u001b[32m     77\u001b[39m     \u001b[38;5;28;01mif\u001b[39;00m \u001b[38;5;129;01mnot\u001b[39;00m error.continuation_token:\n",
      "\u001b[36mFile \u001b[39m\u001b[32mc:\\sources\\gh\\rag-time\\.venv\\Lib\\site-packages\\azure\\search\\documents\\_paging.py:125\u001b[39m, in \u001b[36mSearchPageIterator._get_next_cb\u001b[39m\u001b[34m(self, continuation_token)\u001b[39m\n\u001b[32m    123\u001b[39m \u001b[38;5;28;01mdef\u001b[39;00m\u001b[38;5;250m \u001b[39m\u001b[34m_get_next_cb\u001b[39m(\u001b[38;5;28mself\u001b[39m, continuation_token):\n\u001b[32m    124\u001b[39m     \u001b[38;5;28;01mif\u001b[39;00m continuation_token \u001b[38;5;129;01mis\u001b[39;00m \u001b[38;5;28;01mNone\u001b[39;00m:\n\u001b[32m--> \u001b[39m\u001b[32m125\u001b[39m         \u001b[38;5;28;01mreturn\u001b[39;00m \u001b[38;5;28;43mself\u001b[39;49m\u001b[43m.\u001b[49m\u001b[43m_client\u001b[49m\u001b[43m.\u001b[49m\u001b[43mdocuments\u001b[49m\u001b[43m.\u001b[49m\u001b[43msearch_post\u001b[49m\u001b[43m(\u001b[49m\u001b[43msearch_request\u001b[49m\u001b[43m=\u001b[49m\u001b[38;5;28;43mself\u001b[39;49m\u001b[43m.\u001b[49m\u001b[43m_initial_query\u001b[49m\u001b[43m.\u001b[49m\u001b[43mrequest\u001b[49m\u001b[43m,\u001b[49m\u001b[43m \u001b[49m\u001b[43m*\u001b[49m\u001b[43m*\u001b[49m\u001b[38;5;28;43mself\u001b[39;49m\u001b[43m.\u001b[49m\u001b[43m_kwargs\u001b[49m\u001b[43m)\u001b[49m\n\u001b[32m    127\u001b[39m     _next_link, next_page_request = unpack_continuation_token(continuation_token)\n\u001b[32m    129\u001b[39m     \u001b[38;5;28;01mreturn\u001b[39;00m \u001b[38;5;28mself\u001b[39m._client.documents.search_post(search_request=next_page_request, **\u001b[38;5;28mself\u001b[39m._kwargs)\n",
      "\u001b[36mFile \u001b[39m\u001b[32mc:\\sources\\gh\\rag-time\\.venv\\Lib\\site-packages\\azure\\core\\tracing\\decorator.py:119\u001b[39m, in \u001b[36mdistributed_trace.<locals>.decorator.<locals>.wrapper_use_tracer\u001b[39m\u001b[34m(*args, **kwargs)\u001b[39m\n\u001b[32m    117\u001b[39m \u001b[38;5;66;03m# If tracing is disabled globally and user didn't explicitly enable it, don't trace.\u001b[39;00m\n\u001b[32m    118\u001b[39m \u001b[38;5;28;01mif\u001b[39;00m user_enabled \u001b[38;5;129;01mis\u001b[39;00m \u001b[38;5;28;01mFalse\u001b[39;00m \u001b[38;5;129;01mor\u001b[39;00m (\u001b[38;5;129;01mnot\u001b[39;00m tracing_enabled \u001b[38;5;129;01mand\u001b[39;00m user_enabled \u001b[38;5;129;01mis\u001b[39;00m \u001b[38;5;28;01mNone\u001b[39;00m):\n\u001b[32m--> \u001b[39m\u001b[32m119\u001b[39m     \u001b[38;5;28;01mreturn\u001b[39;00m \u001b[43mfunc\u001b[49m\u001b[43m(\u001b[49m\u001b[43m*\u001b[49m\u001b[43margs\u001b[49m\u001b[43m,\u001b[49m\u001b[43m \u001b[49m\u001b[43m*\u001b[49m\u001b[43m*\u001b[49m\u001b[43mkwargs\u001b[49m\u001b[43m)\u001b[49m\n\u001b[32m    121\u001b[39m \u001b[38;5;66;03m# Merge span is parameter is set, but only if no explicit parent are passed\u001b[39;00m\n\u001b[32m    122\u001b[39m \u001b[38;5;28;01mif\u001b[39;00m merge_span \u001b[38;5;129;01mand\u001b[39;00m \u001b[38;5;129;01mnot\u001b[39;00m passed_in_parent:\n",
      "\u001b[36mFile \u001b[39m\u001b[32mc:\\sources\\gh\\rag-time\\.venv\\Lib\\site-packages\\azure\\search\\documents\\_generated\\operations\\_documents_operations.py:745\u001b[39m, in \u001b[36mDocumentsOperations.search_post\u001b[39m\u001b[34m(self, search_request, request_options, **kwargs)\u001b[39m\n\u001b[32m    742\u001b[39m _request.url = \u001b[38;5;28mself\u001b[39m._client.format_url(_request.url, **path_format_arguments)\n\u001b[32m    744\u001b[39m _stream = \u001b[38;5;28;01mFalse\u001b[39;00m\n\u001b[32m--> \u001b[39m\u001b[32m745\u001b[39m pipeline_response: PipelineResponse = \u001b[38;5;28;43mself\u001b[39;49m\u001b[43m.\u001b[49m\u001b[43m_client\u001b[49m\u001b[43m.\u001b[49m\u001b[43m_pipeline\u001b[49m\u001b[43m.\u001b[49m\u001b[43mrun\u001b[49m\u001b[43m(\u001b[49m\u001b[43m  \u001b[49m\u001b[38;5;66;43;03m# pylint: disable=protected-access\u001b[39;49;00m\n\u001b[32m    746\u001b[39m \u001b[43m    \u001b[49m\u001b[43m_request\u001b[49m\u001b[43m,\u001b[49m\u001b[43m \u001b[49m\u001b[43mstream\u001b[49m\u001b[43m=\u001b[49m\u001b[43m_stream\u001b[49m\u001b[43m,\u001b[49m\u001b[43m \u001b[49m\u001b[43m*\u001b[49m\u001b[43m*\u001b[49m\u001b[43mkwargs\u001b[49m\n\u001b[32m    747\u001b[39m \u001b[43m\u001b[49m\u001b[43m)\u001b[49m\n\u001b[32m    749\u001b[39m response = pipeline_response.http_response\n\u001b[32m    751\u001b[39m \u001b[38;5;28;01mif\u001b[39;00m response.status_code \u001b[38;5;129;01mnot\u001b[39;00m \u001b[38;5;129;01min\u001b[39;00m [\u001b[32m200\u001b[39m]:\n",
      "\u001b[36mFile \u001b[39m\u001b[32mc:\\sources\\gh\\rag-time\\.venv\\Lib\\site-packages\\azure\\core\\pipeline\\_base.py:242\u001b[39m, in \u001b[36mPipeline.run\u001b[39m\u001b[34m(self, request, **kwargs)\u001b[39m\n\u001b[32m    240\u001b[39m pipeline_request: PipelineRequest[HTTPRequestType] = PipelineRequest(request, context)\n\u001b[32m    241\u001b[39m first_node = \u001b[38;5;28mself\u001b[39m._impl_policies[\u001b[32m0\u001b[39m] \u001b[38;5;28;01mif\u001b[39;00m \u001b[38;5;28mself\u001b[39m._impl_policies \u001b[38;5;28;01melse\u001b[39;00m _TransportRunner(\u001b[38;5;28mself\u001b[39m._transport)\n\u001b[32m--> \u001b[39m\u001b[32m242\u001b[39m \u001b[38;5;28;01mreturn\u001b[39;00m \u001b[43mfirst_node\u001b[49m\u001b[43m.\u001b[49m\u001b[43msend\u001b[49m\u001b[43m(\u001b[49m\u001b[43mpipeline_request\u001b[49m\u001b[43m)\u001b[49m\n",
      "\u001b[36mFile \u001b[39m\u001b[32mc:\\sources\\gh\\rag-time\\.venv\\Lib\\site-packages\\azure\\core\\pipeline\\_base.py:98\u001b[39m, in \u001b[36m_SansIOHTTPPolicyRunner.send\u001b[39m\u001b[34m(self, request)\u001b[39m\n\u001b[32m     96\u001b[39m _await_result(\u001b[38;5;28mself\u001b[39m._policy.on_request, request)\n\u001b[32m     97\u001b[39m \u001b[38;5;28;01mtry\u001b[39;00m:\n\u001b[32m---> \u001b[39m\u001b[32m98\u001b[39m     response = \u001b[38;5;28;43mself\u001b[39;49m\u001b[43m.\u001b[49m\u001b[43mnext\u001b[49m\u001b[43m.\u001b[49m\u001b[43msend\u001b[49m\u001b[43m(\u001b[49m\u001b[43mrequest\u001b[49m\u001b[43m)\u001b[49m\n\u001b[32m     99\u001b[39m \u001b[38;5;28;01mexcept\u001b[39;00m \u001b[38;5;167;01mException\u001b[39;00m:\n\u001b[32m    100\u001b[39m     _await_result(\u001b[38;5;28mself\u001b[39m._policy.on_exception, request)\n",
      "\u001b[36mFile \u001b[39m\u001b[32mc:\\sources\\gh\\rag-time\\.venv\\Lib\\site-packages\\azure\\core\\pipeline\\_base.py:98\u001b[39m, in \u001b[36m_SansIOHTTPPolicyRunner.send\u001b[39m\u001b[34m(self, request)\u001b[39m\n\u001b[32m     96\u001b[39m _await_result(\u001b[38;5;28mself\u001b[39m._policy.on_request, request)\n\u001b[32m     97\u001b[39m \u001b[38;5;28;01mtry\u001b[39;00m:\n\u001b[32m---> \u001b[39m\u001b[32m98\u001b[39m     response = \u001b[38;5;28;43mself\u001b[39;49m\u001b[43m.\u001b[49m\u001b[43mnext\u001b[49m\u001b[43m.\u001b[49m\u001b[43msend\u001b[49m\u001b[43m(\u001b[49m\u001b[43mrequest\u001b[49m\u001b[43m)\u001b[49m\n\u001b[32m     99\u001b[39m \u001b[38;5;28;01mexcept\u001b[39;00m \u001b[38;5;167;01mException\u001b[39;00m:\n\u001b[32m    100\u001b[39m     _await_result(\u001b[38;5;28mself\u001b[39m._policy.on_exception, request)\n",
      "    \u001b[31m[... skipping similar frames: _SansIOHTTPPolicyRunner.send at line 98 (2 times)]\u001b[39m\n",
      "\u001b[36mFile \u001b[39m\u001b[32mc:\\sources\\gh\\rag-time\\.venv\\Lib\\site-packages\\azure\\core\\pipeline\\_base.py:98\u001b[39m, in \u001b[36m_SansIOHTTPPolicyRunner.send\u001b[39m\u001b[34m(self, request)\u001b[39m\n\u001b[32m     96\u001b[39m _await_result(\u001b[38;5;28mself\u001b[39m._policy.on_request, request)\n\u001b[32m     97\u001b[39m \u001b[38;5;28;01mtry\u001b[39;00m:\n\u001b[32m---> \u001b[39m\u001b[32m98\u001b[39m     response = \u001b[38;5;28;43mself\u001b[39;49m\u001b[43m.\u001b[49m\u001b[43mnext\u001b[49m\u001b[43m.\u001b[49m\u001b[43msend\u001b[49m\u001b[43m(\u001b[49m\u001b[43mrequest\u001b[49m\u001b[43m)\u001b[49m\n\u001b[32m     99\u001b[39m \u001b[38;5;28;01mexcept\u001b[39;00m \u001b[38;5;167;01mException\u001b[39;00m:\n\u001b[32m    100\u001b[39m     _await_result(\u001b[38;5;28mself\u001b[39m._policy.on_exception, request)\n",
      "\u001b[36mFile \u001b[39m\u001b[32mc:\\sources\\gh\\rag-time\\.venv\\Lib\\site-packages\\azure\\core\\pipeline\\policies\\_redirect.py:205\u001b[39m, in \u001b[36mRedirectPolicy.send\u001b[39m\u001b[34m(self, request)\u001b[39m\n\u001b[32m    203\u001b[39m original_domain = get_domain(request.http_request.url) \u001b[38;5;28;01mif\u001b[39;00m redirect_settings[\u001b[33m\"\u001b[39m\u001b[33mallow\u001b[39m\u001b[33m\"\u001b[39m] \u001b[38;5;28;01melse\u001b[39;00m \u001b[38;5;28;01mNone\u001b[39;00m\n\u001b[32m    204\u001b[39m \u001b[38;5;28;01mwhile\u001b[39;00m retryable:\n\u001b[32m--> \u001b[39m\u001b[32m205\u001b[39m     response = \u001b[38;5;28;43mself\u001b[39;49m\u001b[43m.\u001b[49m\u001b[43mnext\u001b[49m\u001b[43m.\u001b[49m\u001b[43msend\u001b[49m\u001b[43m(\u001b[49m\u001b[43mrequest\u001b[49m\u001b[43m)\u001b[49m\n\u001b[32m    206\u001b[39m     redirect_location = \u001b[38;5;28mself\u001b[39m.get_redirect_location(response)\n\u001b[32m    207\u001b[39m     \u001b[38;5;28;01mif\u001b[39;00m redirect_location \u001b[38;5;129;01mand\u001b[39;00m redirect_settings[\u001b[33m\"\u001b[39m\u001b[33mallow\u001b[39m\u001b[33m\"\u001b[39m]:\n",
      "\u001b[36mFile \u001b[39m\u001b[32mc:\\sources\\gh\\rag-time\\.venv\\Lib\\site-packages\\azure\\core\\pipeline\\policies\\_retry.py:544\u001b[39m, in \u001b[36mRetryPolicy.send\u001b[39m\u001b[34m(self, request)\u001b[39m\n\u001b[32m    542\u001b[39m \u001b[38;5;28mself\u001b[39m._configure_timeout(request, absolute_timeout, is_response_error)\n\u001b[32m    543\u001b[39m request.context[\u001b[33m\"\u001b[39m\u001b[33mretry_count\u001b[39m\u001b[33m\"\u001b[39m] = \u001b[38;5;28mlen\u001b[39m(retry_settings[\u001b[33m\"\u001b[39m\u001b[33mhistory\u001b[39m\u001b[33m\"\u001b[39m])\n\u001b[32m--> \u001b[39m\u001b[32m544\u001b[39m response = \u001b[38;5;28;43mself\u001b[39;49m\u001b[43m.\u001b[49m\u001b[43mnext\u001b[49m\u001b[43m.\u001b[49m\u001b[43msend\u001b[49m\u001b[43m(\u001b[49m\u001b[43mrequest\u001b[49m\u001b[43m)\u001b[49m\n\u001b[32m    545\u001b[39m \u001b[38;5;28;01mif\u001b[39;00m \u001b[38;5;28mself\u001b[39m.is_retry(retry_settings, response):\n\u001b[32m    546\u001b[39m     retry_active = \u001b[38;5;28mself\u001b[39m.increment(retry_settings, response=response)\n",
      "\u001b[36mFile \u001b[39m\u001b[32mc:\\sources\\gh\\rag-time\\.venv\\Lib\\site-packages\\azure\\core\\pipeline\\_base.py:98\u001b[39m, in \u001b[36m_SansIOHTTPPolicyRunner.send\u001b[39m\u001b[34m(self, request)\u001b[39m\n\u001b[32m     96\u001b[39m _await_result(\u001b[38;5;28mself\u001b[39m._policy.on_request, request)\n\u001b[32m     97\u001b[39m \u001b[38;5;28;01mtry\u001b[39;00m:\n\u001b[32m---> \u001b[39m\u001b[32m98\u001b[39m     response = \u001b[38;5;28;43mself\u001b[39;49m\u001b[43m.\u001b[49m\u001b[43mnext\u001b[49m\u001b[43m.\u001b[49m\u001b[43msend\u001b[49m\u001b[43m(\u001b[49m\u001b[43mrequest\u001b[49m\u001b[43m)\u001b[49m\n\u001b[32m     99\u001b[39m \u001b[38;5;28;01mexcept\u001b[39;00m \u001b[38;5;167;01mException\u001b[39;00m:\n\u001b[32m    100\u001b[39m     _await_result(\u001b[38;5;28mself\u001b[39m._policy.on_exception, request)\n",
      "\u001b[36mFile \u001b[39m\u001b[32mc:\\sources\\gh\\rag-time\\.venv\\Lib\\site-packages\\azure\\core\\pipeline\\_base.py:98\u001b[39m, in \u001b[36m_SansIOHTTPPolicyRunner.send\u001b[39m\u001b[34m(self, request)\u001b[39m\n\u001b[32m     96\u001b[39m _await_result(\u001b[38;5;28mself\u001b[39m._policy.on_request, request)\n\u001b[32m     97\u001b[39m \u001b[38;5;28;01mtry\u001b[39;00m:\n\u001b[32m---> \u001b[39m\u001b[32m98\u001b[39m     response = \u001b[38;5;28;43mself\u001b[39;49m\u001b[43m.\u001b[49m\u001b[43mnext\u001b[49m\u001b[43m.\u001b[49m\u001b[43msend\u001b[49m\u001b[43m(\u001b[49m\u001b[43mrequest\u001b[49m\u001b[43m)\u001b[49m\n\u001b[32m     99\u001b[39m \u001b[38;5;28;01mexcept\u001b[39;00m \u001b[38;5;167;01mException\u001b[39;00m:\n\u001b[32m    100\u001b[39m     _await_result(\u001b[38;5;28mself\u001b[39m._policy.on_exception, request)\n",
      "    \u001b[31m[... skipping similar frames: _SansIOHTTPPolicyRunner.send at line 98 (2 times)]\u001b[39m\n",
      "\u001b[36mFile \u001b[39m\u001b[32mc:\\sources\\gh\\rag-time\\.venv\\Lib\\site-packages\\azure\\core\\pipeline\\_base.py:98\u001b[39m, in \u001b[36m_SansIOHTTPPolicyRunner.send\u001b[39m\u001b[34m(self, request)\u001b[39m\n\u001b[32m     96\u001b[39m _await_result(\u001b[38;5;28mself\u001b[39m._policy.on_request, request)\n\u001b[32m     97\u001b[39m \u001b[38;5;28;01mtry\u001b[39;00m:\n\u001b[32m---> \u001b[39m\u001b[32m98\u001b[39m     response = \u001b[38;5;28;43mself\u001b[39;49m\u001b[43m.\u001b[49m\u001b[43mnext\u001b[49m\u001b[43m.\u001b[49m\u001b[43msend\u001b[49m\u001b[43m(\u001b[49m\u001b[43mrequest\u001b[49m\u001b[43m)\u001b[49m\n\u001b[32m     99\u001b[39m \u001b[38;5;28;01mexcept\u001b[39;00m \u001b[38;5;167;01mException\u001b[39;00m:\n\u001b[32m    100\u001b[39m     _await_result(\u001b[38;5;28mself\u001b[39m._policy.on_exception, request)\n",
      "\u001b[36mFile \u001b[39m\u001b[32mc:\\sources\\gh\\rag-time\\.venv\\Lib\\site-packages\\azure\\core\\pipeline\\_base.py:130\u001b[39m, in \u001b[36m_TransportRunner.send\u001b[39m\u001b[34m(self, request)\u001b[39m\n\u001b[32m    120\u001b[39m \u001b[38;5;250m\u001b[39m\u001b[33;03m\"\"\"HTTP transport send method.\u001b[39;00m\n\u001b[32m    121\u001b[39m \n\u001b[32m    122\u001b[39m \u001b[33;03m:param request: The PipelineRequest object.\u001b[39;00m\n\u001b[32m   (...)\u001b[39m\u001b[32m    125\u001b[39m \u001b[33;03m:rtype: ~azure.core.pipeline.PipelineResponse\u001b[39;00m\n\u001b[32m    126\u001b[39m \u001b[33;03m\"\"\"\u001b[39;00m\n\u001b[32m    127\u001b[39m cleanup_kwargs_for_transport(request.context.options)\n\u001b[32m    128\u001b[39m \u001b[38;5;28;01mreturn\u001b[39;00m PipelineResponse(\n\u001b[32m    129\u001b[39m     request.http_request,\n\u001b[32m--> \u001b[39m\u001b[32m130\u001b[39m     \u001b[38;5;28;43mself\u001b[39;49m\u001b[43m.\u001b[49m\u001b[43m_sender\u001b[49m\u001b[43m.\u001b[49m\u001b[43msend\u001b[49m\u001b[43m(\u001b[49m\u001b[43mrequest\u001b[49m\u001b[43m.\u001b[49m\u001b[43mhttp_request\u001b[49m\u001b[43m,\u001b[49m\u001b[43m \u001b[49m\u001b[43m*\u001b[49m\u001b[43m*\u001b[49m\u001b[43mrequest\u001b[49m\u001b[43m.\u001b[49m\u001b[43mcontext\u001b[49m\u001b[43m.\u001b[49m\u001b[43moptions\u001b[49m\u001b[43m)\u001b[49m,\n\u001b[32m    131\u001b[39m     context=request.context,\n\u001b[32m    132\u001b[39m )\n",
      "\u001b[36mFile \u001b[39m\u001b[32mc:\\sources\\gh\\rag-time\\.venv\\Lib\\site-packages\\azure\\core\\pipeline\\transport\\_requests_basic.py:363\u001b[39m, in \u001b[36mRequestsTransport.send\u001b[39m\u001b[34m(self, request, proxies, **kwargs)\u001b[39m\n\u001b[32m    361\u001b[39m         read_timeout = kwargs.pop(\u001b[33m\"\u001b[39m\u001b[33mread_timeout\u001b[39m\u001b[33m\"\u001b[39m, \u001b[38;5;28mself\u001b[39m.connection_config.read_timeout)\n\u001b[32m    362\u001b[39m         timeout = (connection_timeout, read_timeout)\n\u001b[32m--> \u001b[39m\u001b[32m363\u001b[39m     response = \u001b[38;5;28;43mself\u001b[39;49m\u001b[43m.\u001b[49m\u001b[43msession\u001b[49m\u001b[43m.\u001b[49m\u001b[43mrequest\u001b[49m\u001b[43m(\u001b[49m\u001b[43m  \u001b[49m\u001b[38;5;66;43;03m# type: ignore\u001b[39;49;00m\n\u001b[32m    364\u001b[39m \u001b[43m        \u001b[49m\u001b[43mrequest\u001b[49m\u001b[43m.\u001b[49m\u001b[43mmethod\u001b[49m\u001b[43m,\u001b[49m\n\u001b[32m    365\u001b[39m \u001b[43m        \u001b[49m\u001b[43mrequest\u001b[49m\u001b[43m.\u001b[49m\u001b[43murl\u001b[49m\u001b[43m,\u001b[49m\n\u001b[32m    366\u001b[39m \u001b[43m        \u001b[49m\u001b[43mheaders\u001b[49m\u001b[43m=\u001b[49m\u001b[43mrequest\u001b[49m\u001b[43m.\u001b[49m\u001b[43mheaders\u001b[49m\u001b[43m,\u001b[49m\n\u001b[32m    367\u001b[39m \u001b[43m        \u001b[49m\u001b[43mdata\u001b[49m\u001b[43m=\u001b[49m\u001b[43mrequest\u001b[49m\u001b[43m.\u001b[49m\u001b[43mdata\u001b[49m\u001b[43m,\u001b[49m\n\u001b[32m    368\u001b[39m \u001b[43m        \u001b[49m\u001b[43mfiles\u001b[49m\u001b[43m=\u001b[49m\u001b[43mrequest\u001b[49m\u001b[43m.\u001b[49m\u001b[43mfiles\u001b[49m\u001b[43m,\u001b[49m\n\u001b[32m    369\u001b[39m \u001b[43m        \u001b[49m\u001b[43mverify\u001b[49m\u001b[43m=\u001b[49m\u001b[43mkwargs\u001b[49m\u001b[43m.\u001b[49m\u001b[43mpop\u001b[49m\u001b[43m(\u001b[49m\u001b[33;43m\"\u001b[39;49m\u001b[33;43mconnection_verify\u001b[39;49m\u001b[33;43m\"\u001b[39;49m\u001b[43m,\u001b[49m\u001b[43m \u001b[49m\u001b[38;5;28;43mself\u001b[39;49m\u001b[43m.\u001b[49m\u001b[43mconnection_config\u001b[49m\u001b[43m.\u001b[49m\u001b[43mverify\u001b[49m\u001b[43m)\u001b[49m\u001b[43m,\u001b[49m\n\u001b[32m    370\u001b[39m \u001b[43m        \u001b[49m\u001b[43mtimeout\u001b[49m\u001b[43m=\u001b[49m\u001b[43mtimeout\u001b[49m\u001b[43m,\u001b[49m\n\u001b[32m    371\u001b[39m \u001b[43m        \u001b[49m\u001b[43mcert\u001b[49m\u001b[43m=\u001b[49m\u001b[43mkwargs\u001b[49m\u001b[43m.\u001b[49m\u001b[43mpop\u001b[49m\u001b[43m(\u001b[49m\u001b[33;43m\"\u001b[39;49m\u001b[33;43mconnection_cert\u001b[39;49m\u001b[33;43m\"\u001b[39;49m\u001b[43m,\u001b[49m\u001b[43m \u001b[49m\u001b[38;5;28;43mself\u001b[39;49m\u001b[43m.\u001b[49m\u001b[43mconnection_config\u001b[49m\u001b[43m.\u001b[49m\u001b[43mcert\u001b[49m\u001b[43m)\u001b[49m\u001b[43m,\u001b[49m\n\u001b[32m    372\u001b[39m \u001b[43m        \u001b[49m\u001b[43mallow_redirects\u001b[49m\u001b[43m=\u001b[49m\u001b[38;5;28;43;01mFalse\u001b[39;49;00m\u001b[43m,\u001b[49m\n\u001b[32m    373\u001b[39m \u001b[43m        \u001b[49m\u001b[43mproxies\u001b[49m\u001b[43m=\u001b[49m\u001b[43mproxies\u001b[49m\u001b[43m,\u001b[49m\n\u001b[32m    374\u001b[39m \u001b[43m        \u001b[49m\u001b[43m*\u001b[49m\u001b[43m*\u001b[49m\u001b[43mkwargs\u001b[49m\n\u001b[32m    375\u001b[39m \u001b[43m    \u001b[49m\u001b[43m)\u001b[49m\n\u001b[32m    376\u001b[39m     response.raw.enforce_content_length = \u001b[38;5;28;01mTrue\u001b[39;00m\n\u001b[32m    378\u001b[39m \u001b[38;5;28;01mexcept\u001b[39;00m \u001b[38;5;167;01mAttributeError\u001b[39;00m \u001b[38;5;28;01mas\u001b[39;00m err:\n",
      "\u001b[31mTypeError\u001b[39m: Session.request() got an unexpected keyword argument 'query_rewrites'"
     ]
    }
   ],
   "source": [
    "# results = search_client.search(\n",
    "#     search_text=\"What is Contoso\",\n",
    "#     vector_queries=[VectorizableTextQuery(text=\"What is Contoso\", k_nearest_neighbors=50, fields=\"text_vector\")],\n",
    "#     top=5,\n",
    "#     select=[\"title\", \"chunk\"],\n",
    "#     query_type=\"semantic\",\n",
    "#     semantic_configuration_name=\"ragtime2-semantic-configuration\",\n",
    "#     query_rewrites=\"generative\",\n",
    "#     query_language=\"en\"\n",
    "# )\n",
    "\n",
    "# display_results(results)"
   ]
  },
  {
   "cell_type": "markdown",
   "metadata": {},
   "source": [
    "### 6. Challenge\n",
    "Let's have a look at the data of our search index and try to think how users might ask questions - and with which search query type the relevant chunks would be retrieved best!\n",
    "\n",
    "1. Review content of the PerksPlus.pdf\n",
    "2. Formulate two questions that users might ask about this content\n",
    "3. Make assumptions about which search method will perform better (focus on keyword search vs. vector search)\n",
    "4. Test the assumption by executing both searches and comparing the retrieved results.\n",
    "\n"
   ]
  },
  {
   "cell_type": "code",
   "execution_count": null,
   "metadata": {},
   "outputs": [],
   "source": [
    "question = \"...\"\n"
   ]
  },
  {
   "cell_type": "markdown",
   "metadata": {},
   "source": [
    "## Troubleshooting\n",
    "\n",
    "- **Environment Variables Not Loaded:** Ensure you have correctly set the .env file or manually export them in your terminal before running the notebook.\n",
    "- **Authentication Issues:** If using Managed Identity, make sure your Azure identity has proper role assignments.\n",
    "- **Search Results Are Empty:** Ensure your Azure AI Search index contains vectorized data.\n",
    "- **Query Rewriting Issues:** Ensure your search service supports semantic configurations and generative query rewrites.\n",
    "\n",
    "## Summary\n",
    "\n",
    "This notebook demonstrates different search techniques using Azure AI Search, including keyword search, vector search, hybrid search, semantic ranking, and query rewriting. The approach enhances search accuracy by leveraging vector embeddings and semantic understanding to retrieve the most relevant documents.\n",
    "\n"
   ]
  }
 ],
 "metadata": {
  "kernelspec": {
   "display_name": ".venv",
   "language": "python",
   "name": "python3"
  },
  "language_info": {
   "codemirror_mode": {
    "name": "ipython",
    "version": 3
   },
   "file_extension": ".py",
   "mimetype": "text/x-python",
   "name": "python",
   "nbconvert_exporter": "python",
   "pygments_lexer": "ipython3",
   "version": "3.12.4"
  }
 },
 "nbformat": 4,
 "nbformat_minor": 2
}
